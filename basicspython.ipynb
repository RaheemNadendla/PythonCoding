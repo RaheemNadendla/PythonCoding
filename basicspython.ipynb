{
 "cells": [
  {
   "cell_type": "markdown",
   "id": "4065f960",
   "metadata": {},
   "source": [
    "## <span style=\"color:red\">List comprehensions:<span>\n",
    " * List comprehension is a concise way to create lists in Python. It replaces traditional for loops and map() functions for constructing lists, making the code more readable and efficient.\n",
    " \n",
    " syntax: new_list = [expression for item in iterable if condition]"
   ]
  },
  {
   "cell_type": "code",
   "execution_count": 1,
   "id": "fdbeaad5",
   "metadata": {},
   "outputs": [
    {
     "name": "stdout",
     "output_type": "stream",
     "text": [
      "[0, 2, 4, 6, 8, 10, 12, 14, 16, 18]\n",
      "['e', 'l', 'e', 'h', 'a', 'n', 't']\n",
      "['e', 'l', 'e', 'a', 'n', 't']\n",
      "['e', 'l', 'e', 'R', 'h', 'a', 'n', 't']\n",
      "['e', 'l', 'e', 'ph', 'a', 'n', 't']\n",
      "['e', 'l', 'e', 'h', 'a', 'n', 't']\n",
      "['elehant']\n"
     ]
    }
   ],
   "source": [
    "evenn= [i for i in range(20) if i%2==0 ] # even numbers from 0 to 19 \n",
    "chars=[c for c in \"elephant\"  if c!=\"p\"  ] # remove 'p'\n",
    "chars1=[c for c in \"elephant\"  if c not in \"ph\"]# remove 'p' and 'h'\n",
    "chars2=[(\"R\" if c==\"p\" else c) for c in \"elephant\"] # replace 'p' with 'R'\n",
    "s = \"elephant\" \n",
    "# here we combine 'p' and 'h' into 'ph' and creating a new list\n",
    "result = [\"ph\" if s[i:i+2] == \"ph\" else s[i] for i in range(len(s)) if not (i > 0 and s[i-1] == \"p\" and s[i] == \"h\")] # remove 'ph' but keep 'p' and 'h' separately\n",
    "skip= [c for c in \"elephant\" if not (c==\"p\")] # skip 'p' from the string\n",
    "print(evenn)\n",
    "print(chars)\n",
    "print(chars1)\n",
    "print(chars2)\n",
    "print(result)\n",
    "print(skip)\n",
    "com=[\"\".join(skip)]\n",
    "print(com)  # join the characters back into a string in a list"
   ]
  }
 ],
 "metadata": {
  "kernelspec": {
   "display_name": "base",
   "language": "python",
   "name": "python3"
  },
  "language_info": {
   "codemirror_mode": {
    "name": "ipython",
    "version": 3
   },
   "file_extension": ".py",
   "mimetype": "text/x-python",
   "name": "python",
   "nbconvert_exporter": "python",
   "pygments_lexer": "ipython3",
   "version": "3.12.7"
  }
 },
 "nbformat": 4,
 "nbformat_minor": 5
}
