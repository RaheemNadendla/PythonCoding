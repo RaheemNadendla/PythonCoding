{
 "cells": [
  {
   "cell_type": "code",
   "execution_count": null,
   "id": "330952e3",
   "metadata": {},
   "outputs": [
    {
     "name": "stdout",
     "output_type": "stream",
     "text": [
      "1906624\n",
      "<class 'int'>\n",
      "0b1111\n"
     ]
    }
   ],
   "source": [
    "a=\n",
    "bin(15)\n",
    "print(a)\n",
    "print(type(a))\n",
    "print(bin(15))\n"
   ]
  }
 ],
 "metadata": {
  "kernelspec": {
   "display_name": "base",
   "language": "python",
   "name": "python3"
  },
  "language_info": {
   "codemirror_mode": {
    "name": "ipython",
    "version": 3
   },
   "file_extension": ".py",
   "mimetype": "text/x-python",
   "name": "python",
   "nbconvert_exporter": "python",
   "pygments_lexer": "ipython3",
   "version": "3.12.7"
  }
 },
 "nbformat": 4,
 "nbformat_minor": 5
}
