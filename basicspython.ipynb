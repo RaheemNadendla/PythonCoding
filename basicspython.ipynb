{
 "cells": [
  {
   "cell_type": "markdown",
   "id": "4065f960",
   "metadata": {},
   "source": [
    "## <span style=\"color:red\">List comprehensions:<span>\n",
    " * List comprehension is a concise way to create lists in Python. It replaces traditional for loops and map() functions for constructing lists, making the code more readable and efficient.\n",
    " \n",
    " syntax: new_list = [expression for item in iterable if condition]"
   ]
  },
  {
   "cell_type": "code",
   "execution_count": 8,
   "id": "fdbeaad5",
   "metadata": {},
   "outputs": [
    {
     "name": "stdout",
     "output_type": "stream",
     "text": [
      "[0, 2, 4, 6, 8, 10, 12, 14, 16, 18]\n",
      "['e', 'l', 'e', 'h', 'a', 'n', 't']\n",
      "['e', 'l', 'e', 'a', 'n', 't']\n",
      "['e', 'l', 'e', 'R', 'h', 'a', 'n', 't']\n",
      "['t', 'n', 'a', 'h', 'p', 'e', 'l', 'e']\n",
      "['tnahpele']\n",
      "['tnahpele']\n",
      "['e', 'l', 'e', 'ph', 'a', 'n', 't']\n",
      "['e', 'l', 'e', 'h', 'a', 'n', 't']\n",
      "['elehant']\n"
     ]
    },
    {
     "data": {
      "text/plain": [
       "7"
      ]
     },
     "execution_count": 8,
     "metadata": {},
     "output_type": "execute_result"
    }
   ],
   "source": [
    "evenn= [i for i in range(20) if i%2==0 ] # even numbers from 0 to 19 \n",
    "\n",
    "chars=[c for c in \"elephant\"  if c!=\"p\"  ] # remove 'p'\n",
    "\n",
    "chars1=[c for c in \"elephant\"  if c not in \"ph\"]# remove 'p' and 'h'\n",
    "\n",
    "chars2=[(\"R\" if c==\"p\" else c) for c in \"elephant\"] # replace 'p' with 'R'\n",
    "\n",
    "s = \"elephant\"\n",
    "reverse=[s[i] for i in range(len(s)-1, -1, -1)] # reverse the string\n",
    "\n",
    "reverse1=[s[::-1]] # another way to reverse the string\n",
    "\n",
    "reverse2 = [\"\".join([s[i] for i in range(len(s)-1, -1, -1)])] # reverse the string using join\n",
    " \n",
    "# here we combine 'p' and 'h' into 'ph' and creating a new list\n",
    "result = [\"ph\" if s[i:i+2] == \"ph\" else s[i] for i in range(len(s)) if not (i > 0 and s[i-1] == \"p\" and s[i] == \"h\")] # remove 'ph' but keep 'p' and 'h' separately\n",
    "\n",
    "skip= [c for c in \"elephant\" if not (c==\"p\")] # skip 'p' from the string\n",
    "\n",
    "print(evenn)\n",
    "print(chars)\n",
    "print(chars1)\n",
    "print(chars2)\n",
    "print(reverse)\n",
    "print(reverse1)\n",
    "print(reverse2)\n",
    "print(result)\n",
    "print(skip)\n",
    "com=[\"\".join(skip)]\n",
    "print(com)  # join the characters back into a string in a list\n",
    "len(s)-1"
   ]
  },
  {
   "cell_type": "code",
   "execution_count": 31,
   "id": "415ef977",
   "metadata": {},
   "outputs": [
    {
     "name": "stdout",
     "output_type": "stream",
     "text": [
      "aldnedaN meehaR  <----reversing the string \n",
      "aldnedaN meehaR  <---reversing the string another way\n",
      "Nadendla Raheem  <---reversing the order of words in the string\n"
     ]
    }
   ],
   "source": [
    "name=\"Raheem Nadendla\"  \n",
    "rev=name[::-1]\n",
    "rev1=\"\".join(name[i] for i in range(len(name)-1,-1,-1))\n",
    "parts=name.split()\n",
    "repls=\" \".join(parts[::-1]) # reverse the order of words in the string\n",
    "print(f\"{rev}  <----reversing the string \")\n",
    "print(f\"{rev1}  <---reversing the string another way\")\n",
    "print(f\"{repls}  <---reversing the order of words in the string\")"
   ]
  },
  {
   "cell_type": "code",
   "execution_count": null,
   "id": "94a406d0",
   "metadata": {},
   "outputs": [
    {
     "name": "stdout",
     "output_type": "stream",
     "text": [
      "{'and': 4, 'to': 3, 'a': 1, 'of': 2, 'the': 1, 'in': 1, 'that': 1, 'is': 0, 'are': 1, 'from': 1, 'as': 0, 'like': 1, 'for': 0, 'with': 0}\n",
      "and : 4\n",
      "to : 3\n",
      "a : 1\n",
      "of : 2\n",
      "the : 1\n",
      "in : 1\n",
      "that : 1\n",
      "are : 1\n",
      "from : 1\n",
      "like : 1\n",
      "and\n"
     ]
    }
   ],
   "source": [
    "paragraph=\"\"\"Artificial Intelligence (AI) refers to the simulation of human intelligence processes in machines,\n",
    " enabling them to perform tasks that typically require human intelligence like learning,\n",
    "   reasoning, and problem-solving. It encompasses a wide range of technologies, including machine learning,\n",
    "     deep learning, and natural language processing. AI applications are diverse, ranging from recommendation systems and virtual assistants to autonomous vehicles and generative tools.\"\"\"\n",
    "parts = paragraph.split()\n",
    "countwords = [\"and\", \"to\", \"a\", \"of\" , \"the\", \"in\", \"that\", \"is\", \"are\", \"from\", \"as\", \"like\", \"for\", \"with\"]\n",
    "\n",
    "# Count occurrences of each word in countwords\n",
    "counts = {word: parts.count(word) for word in countwords}\n",
    "print(counts)\n",
    "print(\"\\n\".join([f\"{word} : {counts[word]}\" for word in countwords if counts[word] > 0]))\n",
    "\n",
    "\n",
    "\n"
   ]
  },
  {
   "cell_type": "code",
   "execution_count": 65,
   "id": "58f13c60",
   "metadata": {},
   "outputs": [
    {
     "name": "stdout",
     "output_type": "stream",
     "text": [
      "and\n"
     ]
    }
   ],
   "source": [
    "value = 4\n",
    "key = next(k  for k, v in counts.items() if v == value)\n",
    "print(key)  "
   ]
  },
  {
   "cell_type": "code",
   "execution_count": null,
   "id": "34f6e2da",
   "metadata": {},
   "outputs": [],
   "source": []
  }
 ],
 "metadata": {
  "kernelspec": {
   "display_name": "base",
   "language": "python",
   "name": "python3"
  },
  "language_info": {
   "codemirror_mode": {
    "name": "ipython",
    "version": 3
   },
   "file_extension": ".py",
   "mimetype": "text/x-python",
   "name": "python",
   "nbconvert_exporter": "python",
   "pygments_lexer": "ipython3",
   "version": "3.12.7"
  }
 },
 "nbformat": 4,
 "nbformat_minor": 5
}
