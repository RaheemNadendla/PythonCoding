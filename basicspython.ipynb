{
 "cells": [
  {
   "cell_type": "markdown",
   "id": "4065f960",
   "metadata": {},
   "source": [
    "## <span style=\"color:red\">List comprehensions:<span>\n",
    " * List comprehension is a concise way to create lists in Python. It replaces traditional for loops and map() functions for constructing lists, making the code more readable and efficient.\n",
    " \n",
    " syntax: new_list = [expression for item in iterable if condition]"
   ]
  },
  {
   "cell_type": "code",
   "execution_count": 8,
   "id": "fdbeaad5",
   "metadata": {},
   "outputs": [
    {
     "name": "stdout",
     "output_type": "stream",
     "text": [
      "[0, 2, 4, 6, 8, 10, 12, 14, 16, 18]\n",
      "['e', 'l', 'e', 'h', 'a', 'n', 't']\n",
      "['e', 'l', 'e', 'a', 'n', 't']\n",
      "['e', 'l', 'e', 'R', 'h', 'a', 'n', 't']\n",
      "['t', 'n', 'a', 'h', 'p', 'e', 'l', 'e']\n",
      "['tnahpele']\n",
      "['tnahpele']\n",
      "['e', 'l', 'e', 'ph', 'a', 'n', 't']\n",
      "['e', 'l', 'e', 'h', 'a', 'n', 't']\n",
      "['elehant']\n"
     ]
    },
    {
     "data": {
      "text/plain": [
       "7"
      ]
     },
     "execution_count": 8,
     "metadata": {},
     "output_type": "execute_result"
    }
   ],
   "source": [
    "evenn= [i for i in range(20) if i%2==0 ] # even numbers from 0 to 19 \n",
    "\n",
    "chars=[c for c in \"elephant\"  if c!=\"p\"  ] # remove 'p'\n",
    "\n",
    "chars1=[c for c in \"elephant\"  if c not in \"ph\"]# remove 'p' and 'h'\n",
    "\n",
    "chars2=[(\"R\" if c==\"p\" else c) for c in \"elephant\"] # replace 'p' with 'R'\n",
    "\n",
    "s = \"elephant\"\n",
    "reverse=[s[i] for i in range(len(s)-1, -1, -1)] # reverse the string\n",
    "\n",
    "reverse1=[s[::-1]] # another way to reverse the string\n",
    "\n",
    "reverse2 = [\"\".join([s[i] for i in range(len(s)-1, -1, -1)])] # reverse the string using join\n",
    " \n",
    "# here we combine 'p' and 'h' into 'ph' and creating a new list\n",
    "result = [\"ph\" if s[i:i+2] == \"ph\" else s[i] for i in range(len(s)) if not (i > 0 and s[i-1] == \"p\" and s[i] == \"h\")] # remove 'ph' but keep 'p' and 'h' separately\n",
    "\n",
    "skip= [c for c in \"elephant\" if not (c==\"p\")] # skip 'p' from the string\n",
    "\n",
    "print(evenn)\n",
    "print(chars)\n",
    "print(chars1)\n",
    "print(chars2)\n",
    "print(reverse)\n",
    "print(reverse1)\n",
    "print(reverse2)\n",
    "print(result)\n",
    "print(skip)\n",
    "com=[\"\".join(skip)]\n",
    "print(com)  # join the characters back into a string in a list\n",
    "len(s)-1"
   ]
  },
  {
   "cell_type": "code",
   "execution_count": 31,
   "id": "415ef977",
   "metadata": {},
   "outputs": [
    {
     "name": "stdout",
     "output_type": "stream",
     "text": [
      "aldnedaN meehaR  <----reversing the string \n",
      "aldnedaN meehaR  <---reversing the string another way\n",
      "Nadendla Raheem  <---reversing the order of words in the string\n"
     ]
    }
   ],
   "source": [
    "name=\"Raheem Nadendla\"  \n",
    "rev=name[::-1]\n",
    "rev1=\"\".join(name[i] for i in range(len(name)-1,-1,-1))\n",
    "parts=name.split()\n",
    "repls=\" \".join(parts[::-1]) # reverse the order of words in the string\n",
    "print(f\"{rev}  <----reversing the string \")\n",
    "print(f\"{rev1}  <---reversing the string another way\")\n",
    "print(f\"{repls}  <---reversing the order of words in the string\")"
   ]
  },
  {
   "cell_type": "code",
   "execution_count": null,
   "id": "94a406d0",
   "metadata": {},
   "outputs": [
    {
     "name": "stdout",
     "output_type": "stream",
     "text": [
      "{'and': 4, 'to': 3, 'a': 1, 'of': 2, 'the': 1, 'in': 1, 'that': 1, 'is': 0, 'are': 1, 'from': 1, 'as': 0, 'like': 1, 'for': 0, 'with': 0}\n",
      "and : 4\n",
      "to : 3\n",
      "a : 1\n",
      "of : 2\n",
      "the : 1\n",
      "in : 1\n",
      "that : 1\n",
      "are : 1\n",
      "from : 1\n",
      "like : 1\n",
      "and\n"
     ]
    }
   ],
   "source": [
    "paragraph=\"\"\"Artificial Intelligence (AI) refers to the simulation of human intelligence processes in machines,\n",
    " enabling them to perform tasks that typically require human intelligence like learning,\n",
    "   reasoning, and problem-solving. It encompasses a wide range of technologies, including machine learning,\n",
    "     deep learning, and natural language processing. AI applications are diverse, ranging from recommendation systems and virtual assistants to autonomous vehicles and generative tools.\"\"\"\n",
    "parts = paragraph.split()\n",
    "countwords = [\"and\", \"to\", \"a\", \"of\" , \"the\", \"in\", \"that\", \"is\", \"are\", \"from\", \"as\", \"like\", \"for\", \"with\"]\n",
    "\n",
    "# Count occurrences of each word in countwords\n",
    "counts = {word: parts.count(word) for word in countwords}\n",
    "print(counts)\n",
    "print(\"\\n\".join([f\"{word} : {counts[word]}\" for word in countwords if counts[word] > 0]))\n",
    "\n",
    "\n",
    "\n"
   ]
  },
  {
   "cell_type": "code",
   "execution_count": 65,
   "id": "58f13c60",
   "metadata": {},
   "outputs": [
    {
     "name": "stdout",
     "output_type": "stream",
     "text": [
      "and\n"
     ]
    }
   ],
   "source": [
    "value = 4\n",
    "key = next(k  for k, v in counts.items() if v == value)\n",
    "print(key)  "
   ]
  },
  {
   "cell_type": "markdown",
   "id": "276450d9",
   "metadata": {},
   "source": [
    "## <span style=\"color:red\">Generators in python:<span>:\n",
    "* A generator is a special type of iterator that produces values lazily, meaning it generates values on the fly instead of storing them in memory. Generators are implemented using functions and the yield keyword.\n",
    "Use Case:\n",
    "When working with large datasets to save memory.\n",
    "When streaming data processing (e.g., reading large files, logs, or API responses).\n",
    "\n",
    "<span style=\"color:green\">Syntax:<span>\n",
    "\n",
    "def generator_function():\n",
    "\n",
    "         yield value\n",
    "\n",
    "yield → Pauses the function execution and returns a value.\n",
    "\n",
    "Unlike return, it allows resuming execution from where it left off."
   ]
  },
  {
   "cell_type": "code",
   "execution_count": null,
   "id": "34f6e2da",
   "metadata": {},
   "outputs": [
    {
     "name": "stdout",
     "output_type": "stream",
     "text": [
      "1\n",
      "2\n",
      "3\n",
      "[4, 5]\n",
      "[]\n"
     ]
    }
   ],
   "source": [
    "def count_up_to(n):\n",
    "    \"\"\"Generator that yields numbers from 1 to n\"\"\"\n",
    "    count = 1\n",
    "    while count <= n:\n",
    "        yield count\n",
    "        count += 1\n",
    "\n",
    "# Using the generator\n",
    "gen = count_up_to(5)\n",
    "print(next(gen))  # Output: 1\n",
    "print(next(gen))  # Output: 2\n",
    "print(next(gen))  # Output: 3\n",
    "print(list(gen))  # Output: [3, 4, 5] (Remaining values)\n",
    "print(list(gen)) # Output: [] (No more values left in the generator)"
   ]
  },
  {
   "cell_type": "code",
   "execution_count": 2,
   "id": "436e5286",
   "metadata": {},
   "outputs": [
    {
     "name": "stdout",
     "output_type": "stream",
     "text": [
      "1\n"
     ]
    }
   ],
   "source": [
    "def infinitecount():\n",
    "    \"\"\"Generator that yields an infinite sequence of numbers starting from 1\"\"\"\n",
    "    count = 1\n",
    "    while True:\n",
    "        yield count\n",
    "        count += 1\n",
    "\n",
    "infin=infinitecount()\n",
    "print(next(infin))  \n"
   ]
  },
  {
   "cell_type": "code",
   "execution_count": 3,
   "id": "b108be58",
   "metadata": {},
   "outputs": [
    {
     "name": "stdout",
     "output_type": "stream",
     "text": [
      "0\n",
      "1\n",
      "[4, 9, 16]\n"
     ]
    }
   ],
   "source": [
    "squares = (x**2 for x in range(5))  # Generator expression\n",
    "print(next(squares))  # Output: 0\n",
    "print(next(squares))  # Output: 1\n",
    "print(list(squares))  # Output: [4, 9, 16] (Remaining values)\n"
   ]
  },
  {
   "cell_type": "code",
   "execution_count": 4,
   "id": "9ec2e049",
   "metadata": {},
   "outputs": [
    {
     "name": "stdout",
     "output_type": "stream",
     "text": [
      "List size: 85176 bytes\n",
      "Generator size: 200 bytes\n"
     ]
    }
   ],
   "source": [
    "import sys\n",
    "\n",
    "# List comprehension (stores all values)\n",
    "list_nums = [x**2 for x in range(10000)]\n",
    "print(\"List size:\", sys.getsizeof(list_nums), \"bytes\")  # High memory usage\n",
    "\n",
    "# Generator expression (only generates values when needed)\n",
    "gen_nums = (x**2 for x in range(10000))\n",
    "print(\"Generator size:\", sys.getsizeof(gen_nums), \"bytes\")  # Low memory usage"
   ]
  },
  {
   "cell_type": "code",
   "execution_count": 5,
   "id": "b275993f",
   "metadata": {},
   "outputs": [
    {
     "name": "stdout",
     "output_type": "stream",
     "text": [
      "0 1 1 2 3 5 8 13 21 34 "
     ]
    }
   ],
   "source": [
    "def fibonacci():\n",
    "    \"\"\"Generates Fibonacci numbers indefinitely\"\"\"\n",
    "    a, b = 0, 1\n",
    "    while True:\n",
    "        yield a\n",
    "        a, b = b, a + b\n",
    "\n",
    "# Using the generator\n",
    "fib = fibonacci()\n",
    "for _ in range(10):\n",
    "    print(next(fib), end=\" \")  # Output: 0 1 1 2 3 5 8 13 21 34\n"
   ]
  },
  {
   "cell_type": "code",
   "execution_count": null,
   "id": "ab8398a9",
   "metadata": {},
   "outputs": [],
   "source": [
    "def read_large_file(file_path):\n",
    "    \"\"\"Generator that reads a file line by line\"\"\"\n",
    "    with open(file_path, \"r\") as file:\n",
    "        for line in file:\n",
    "            yield line.strip()\n",
    "\n",
    "# Using the generator\n",
    "for line in read_large_file(\"large_text.txt\"):\n",
    "    print(line)  # Processes one line at a time\n"
   ]
  },
  {
   "cell_type": "code",
   "execution_count": 7,
   "id": "4105440c",
   "metadata": {},
   "outputs": [
    {
     "name": "stdout",
     "output_type": "stream",
     "text": [
      "Received: Hello\n",
      "Received: World\n"
     ]
    }
   ],
   "source": [
    "def interactive_generator():\n",
    "    \"\"\"Generator that interacts with send()\"\"\"\n",
    "    while True:\n",
    "        value = yield\n",
    "        print(f\"Received: {value}\")\n",
    "\n",
    "gen = interactive_generator()\n",
    "next(gen)  # Start generator\n",
    "gen.send(\"Hello\")  # Output: Received: Hello\n",
    "gen.send(\"World\")  # Output: Received: World\n"
   ]
  }
 ],
 "metadata": {
  "kernelspec": {
   "display_name": "base",
   "language": "python",
   "name": "python3"
  },
  "language_info": {
   "codemirror_mode": {
    "name": "ipython",
    "version": 3
   },
   "file_extension": ".py",
   "mimetype": "text/x-python",
   "name": "python",
   "nbconvert_exporter": "python",
   "pygments_lexer": "ipython3",
   "version": "3.12.7"
  }
 },
 "nbformat": 4,
 "nbformat_minor": 5
}
